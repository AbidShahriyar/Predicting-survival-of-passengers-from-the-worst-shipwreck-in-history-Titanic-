{
 "cells": [
  {
   "cell_type": "markdown",
   "metadata": {},
   "source": [
    "## Import necessary modules"
   ]
  },
  {
   "cell_type": "code",
   "execution_count": 3,
   "metadata": {},
   "outputs": [],
   "source": [
    "import pandas as pd\n",
    "import numpy as np\n",
    "import seaborn as sns\n",
    "import matplotlib.pyplot as plt\n",
    "from sklearn import tree\n",
    "%matplotlib inline"
   ]
  },
  {
   "cell_type": "markdown",
   "metadata": {},
   "source": [
    "## Read and understand the training dataset"
   ]
  },
  {
   "cell_type": "code",
   "execution_count": 5,
   "metadata": {},
   "outputs": [
    {
     "name": "stdout",
     "output_type": "stream",
     "text": [
      "Check for null Values :\n",
      " PassengerId      0\n",
      "Survived         0\n",
      "Pclass           0\n",
      "Name             0\n",
      "Sex              0\n",
      "Age            177\n",
      "SibSp            0\n",
      "Parch            0\n",
      "Ticket           0\n",
      "Fare             0\n",
      "Cabin          687\n",
      "Embarked         2\n",
      "dtype: int64\n",
      "Check basic statistics: \n",
      "         PassengerId    Survived      Pclass                  Name   Sex  \\\n",
      "count    891.000000  891.000000  891.000000                   891   891   \n",
      "unique          NaN         NaN         NaN                   891     2   \n",
      "top             NaN         NaN         NaN  Sadlier, Mr. Matthew  male   \n",
      "freq            NaN         NaN         NaN                     1   577   \n",
      "mean     446.000000    0.383838    2.308642                   NaN   NaN   \n",
      "std      257.353842    0.486592    0.836071                   NaN   NaN   \n",
      "min        1.000000    0.000000    1.000000                   NaN   NaN   \n",
      "25%      223.500000    0.000000    2.000000                   NaN   NaN   \n",
      "50%      446.000000    0.000000    3.000000                   NaN   NaN   \n",
      "75%      668.500000    1.000000    3.000000                   NaN   NaN   \n",
      "max      891.000000    1.000000    3.000000                   NaN   NaN   \n",
      "\n",
      "               Age       SibSp       Parch Ticket        Fare        Cabin  \\\n",
      "count   714.000000  891.000000  891.000000    891  891.000000          204   \n",
      "unique         NaN         NaN         NaN    681         NaN          147   \n",
      "top            NaN         NaN         NaN   1601         NaN  C23 C25 C27   \n",
      "freq           NaN         NaN         NaN      7         NaN            4   \n",
      "mean     29.699118    0.523008    0.381594    NaN   32.204208          NaN   \n",
      "std      14.526497    1.102743    0.806057    NaN   49.693429          NaN   \n",
      "min       0.420000    0.000000    0.000000    NaN    0.000000          NaN   \n",
      "25%      20.125000    0.000000    0.000000    NaN    7.910400          NaN   \n",
      "50%      28.000000    0.000000    0.000000    NaN   14.454200          NaN   \n",
      "75%      38.000000    1.000000    0.000000    NaN   31.000000          NaN   \n",
      "max      80.000000    8.000000    6.000000    NaN  512.329200          NaN   \n",
      "\n",
      "       Embarked  \n",
      "count       889  \n",
      "unique        3  \n",
      "top           S  \n",
      "freq        644  \n",
      "mean        NaN  \n",
      "std         NaN  \n",
      "min         NaN  \n",
      "25%         NaN  \n",
      "50%         NaN  \n",
      "75%         NaN  \n",
      "max         NaN  \n",
      "Check number of unique entries: \n",
      " PassengerId    891\n",
      "Survived         2\n",
      "Pclass           3\n",
      "Name           891\n",
      "Sex              2\n",
      "Age             88\n",
      "SibSp            7\n",
      "Parch            7\n",
      "Ticket         681\n",
      "Fare           248\n",
      "Cabin          147\n",
      "Embarked         3\n",
      "dtype: int64\n",
      "Check for Data Types: \n",
      " PassengerId      int64\n",
      "Survived         int64\n",
      "Pclass           int64\n",
      "Name            object\n",
      "Sex             object\n",
      "Age            float64\n",
      "SibSp            int64\n",
      "Parch            int64\n",
      "Ticket          object\n",
      "Fare           float64\n",
      "Cabin           object\n",
      "Embarked        object\n",
      "dtype: object\n"
     ]
    }
   ],
   "source": [
    "traindf = pd.read_csv(r'train.csv')\n",
    "null_values = traindf.isnull().sum()\n",
    "print('Check for null Values :\\n', null_values)\n",
    "print('Check basic statistics: \\n', traindf.describe(include='all'))\n",
    "print('Check number of unique entries: \\n', traindf.nunique())\n",
    "print('Check for Data Types: \\n', traindf.dtypes)"
   ]
  },
  {
   "cell_type": "markdown",
   "metadata": {},
   "source": [
    "## Data Cleaning\n",
    "- Dropping unnecessary columns\n",
    "- Dropping rows with missing values\n",
    "- Assigning integers to categorical variables"
   ]
  },
  {
   "cell_type": "code",
   "execution_count": 6,
   "metadata": {},
   "outputs": [
    {
     "data": {
      "text/html": [
       "<div>\n",
       "<style scoped>\n",
       "    .dataframe tbody tr th:only-of-type {\n",
       "        vertical-align: middle;\n",
       "    }\n",
       "\n",
       "    .dataframe tbody tr th {\n",
       "        vertical-align: top;\n",
       "    }\n",
       "\n",
       "    .dataframe thead th {\n",
       "        text-align: right;\n",
       "    }\n",
       "</style>\n",
       "<table border=\"1\" class=\"dataframe\">\n",
       "  <thead>\n",
       "    <tr style=\"text-align: right;\">\n",
       "      <th></th>\n",
       "      <th>Survived</th>\n",
       "      <th>Pclass</th>\n",
       "      <th>Sex</th>\n",
       "      <th>Fare</th>\n",
       "      <th>Embarked</th>\n",
       "    </tr>\n",
       "  </thead>\n",
       "  <tbody>\n",
       "    <tr>\n",
       "      <th>0</th>\n",
       "      <td>0</td>\n",
       "      <td>3</td>\n",
       "      <td>0</td>\n",
       "      <td>7.2500</td>\n",
       "      <td>0</td>\n",
       "    </tr>\n",
       "    <tr>\n",
       "      <th>1</th>\n",
       "      <td>1</td>\n",
       "      <td>1</td>\n",
       "      <td>1</td>\n",
       "      <td>71.2833</td>\n",
       "      <td>1</td>\n",
       "    </tr>\n",
       "    <tr>\n",
       "      <th>2</th>\n",
       "      <td>1</td>\n",
       "      <td>3</td>\n",
       "      <td>1</td>\n",
       "      <td>7.9250</td>\n",
       "      <td>0</td>\n",
       "    </tr>\n",
       "    <tr>\n",
       "      <th>3</th>\n",
       "      <td>1</td>\n",
       "      <td>1</td>\n",
       "      <td>1</td>\n",
       "      <td>53.1000</td>\n",
       "      <td>0</td>\n",
       "    </tr>\n",
       "    <tr>\n",
       "      <th>4</th>\n",
       "      <td>0</td>\n",
       "      <td>3</td>\n",
       "      <td>0</td>\n",
       "      <td>8.0500</td>\n",
       "      <td>0</td>\n",
       "    </tr>\n",
       "    <tr>\n",
       "      <th>...</th>\n",
       "      <td>...</td>\n",
       "      <td>...</td>\n",
       "      <td>...</td>\n",
       "      <td>...</td>\n",
       "      <td>...</td>\n",
       "    </tr>\n",
       "    <tr>\n",
       "      <th>886</th>\n",
       "      <td>0</td>\n",
       "      <td>2</td>\n",
       "      <td>0</td>\n",
       "      <td>13.0000</td>\n",
       "      <td>0</td>\n",
       "    </tr>\n",
       "    <tr>\n",
       "      <th>887</th>\n",
       "      <td>1</td>\n",
       "      <td>1</td>\n",
       "      <td>1</td>\n",
       "      <td>30.0000</td>\n",
       "      <td>0</td>\n",
       "    </tr>\n",
       "    <tr>\n",
       "      <th>888</th>\n",
       "      <td>0</td>\n",
       "      <td>3</td>\n",
       "      <td>1</td>\n",
       "      <td>23.4500</td>\n",
       "      <td>0</td>\n",
       "    </tr>\n",
       "    <tr>\n",
       "      <th>889</th>\n",
       "      <td>1</td>\n",
       "      <td>1</td>\n",
       "      <td>0</td>\n",
       "      <td>30.0000</td>\n",
       "      <td>1</td>\n",
       "    </tr>\n",
       "    <tr>\n",
       "      <th>890</th>\n",
       "      <td>0</td>\n",
       "      <td>3</td>\n",
       "      <td>0</td>\n",
       "      <td>7.7500</td>\n",
       "      <td>2</td>\n",
       "    </tr>\n",
       "  </tbody>\n",
       "</table>\n",
       "<p>889 rows × 5 columns</p>\n",
       "</div>"
      ],
      "text/plain": [
       "     Survived  Pclass  Sex     Fare  Embarked\n",
       "0           0       3    0   7.2500         0\n",
       "1           1       1    1  71.2833         1\n",
       "2           1       3    1   7.9250         0\n",
       "3           1       1    1  53.1000         0\n",
       "4           0       3    0   8.0500         0\n",
       "..        ...     ...  ...      ...       ...\n",
       "886         0       2    0  13.0000         0\n",
       "887         1       1    1  30.0000         0\n",
       "888         0       3    1  23.4500         0\n",
       "889         1       1    0  30.0000         1\n",
       "890         0       3    0   7.7500         2\n",
       "\n",
       "[889 rows x 5 columns]"
      ]
     },
     "execution_count": 6,
     "metadata": {},
     "output_type": "execute_result"
    }
   ],
   "source": [
    "traindf = traindf.drop(['Cabin', 'Name', 'PassengerId', 'Ticket', 'SibSp', 'Parch', 'Age'], axis=1)\n",
    "traindf = traindf.dropna(axis=0, subset=['Embarked'])\n",
    "traindf.Sex = traindf.Sex.map({'male': 0, 'female': 1})\n",
    "traindf.Embarked = traindf.Embarked.map({'S': 0, 'C': 1, 'Q': 2})\n",
    "traindf"
   ]
  },
  {
   "cell_type": "markdown",
   "metadata": {},
   "source": [
    "## Create a correlation matrix to check dependencies"
   ]
  },
  {
   "cell_type": "code",
   "execution_count": 7,
   "metadata": {},
   "outputs": [
    {
     "data": {
      "text/plain": [
       "Survived    1.000000\n",
       "Sex         0.541585\n",
       "Fare        0.255290\n",
       "Embarked    0.108669\n",
       "Pclass     -0.335549\n",
       "Name: Survived, dtype: float64"
      ]
     },
     "execution_count": 7,
     "metadata": {},
     "output_type": "execute_result"
    }
   ],
   "source": [
    "correlation_matrix = traindf.corr()\n",
    "correlation_matrix['Survived'].sort_values(ascending=False)"
   ]
  },
  {
   "cell_type": "markdown",
   "metadata": {},
   "source": [
    "## Create a Decision Tree model"
   ]
  },
  {
   "cell_type": "code",
   "execution_count": 9,
   "metadata": {},
   "outputs": [
    {
     "data": {
      "text/plain": [
       "[Text(198.146516798419, 212.26285714285714, 'Sex <= 0.5\\ngini = 0.472\\nsamples = 100.0%\\nvalue = [0.618, 0.382]\\nclass = Died'),\n",
       " Text(124.76427865612649, 201.90857142857143, 'Fare <= 26.269\\ngini = 0.306\\nsamples = 64.9%\\nvalue = [0.811, 0.189]\\nclass = Died'),\n",
       " Text(59.38399209486167, 191.5542857142857, 'Fare <= 7.91\\ngini = 0.226\\nsamples = 46.7%\\nvalue = [0.87, 0.13]\\nclass = Died'),\n",
       " Text(35.39881422924901, 181.2, 'Fare <= 7.865\\ngini = 0.143\\nsamples = 20.2%\\nvalue = [0.922, 0.078]\\nclass = Died'),\n",
       " Text(25.804743083003956, 170.84571428571428, 'Fare <= 7.763\\ngini = 0.167\\nsamples = 15.9%\\nvalue = [0.908, 0.092]\\nclass = Died'),\n",
       " Text(14.556521739130437, 160.49142857142857, 'Pclass <= 2.5\\ngini = 0.134\\nsamples = 12.5%\\nvalue = [0.928, 0.072]\\nclass = Died'),\n",
       " Text(11.909881422924903, 150.13714285714286, 'gini = 0.0\\nsamples = 1.3%\\nvalue = [1.0, 0.0]\\nclass = Died'),\n",
       " Text(17.20316205533597, 150.13714285714286, 'Fare <= 7.24\\ngini = 0.149\\nsamples = 11.1%\\nvalue = [0.919, 0.081]\\nclass = Died'),\n",
       " Text(10.586561264822135, 139.78285714285715, 'Fare <= 7.133\\ngini = 0.201\\nsamples = 6.0%\\nvalue = [0.887, 0.113]\\nclass = Died'),\n",
       " Text(5.293280632411068, 129.42857142857144, 'Fare <= 2.006\\ngini = 0.128\\nsamples = 3.3%\\nvalue = [0.931, 0.069]\\nclass = Died'),\n",
       " Text(2.646640316205534, 119.07428571428571, 'gini = 0.375\\nsamples = 0.4%\\nvalue = [0.75, 0.25]\\nclass = Died'),\n",
       " Text(7.939920948616601, 119.07428571428571, 'Fare <= 7.01\\ngini = 0.077\\nsamples = 2.8%\\nvalue = [0.96, 0.04]\\nclass = Died'),\n",
       " Text(5.293280632411068, 108.72, 'Fare <= 6.962\\ngini = 0.165\\nsamples = 1.2%\\nvalue = [0.909, 0.091]\\nclass = Died'),\n",
       " Text(2.646640316205534, 98.36571428571429, 'gini = 0.0\\nsamples = 1.0%\\nvalue = [1.0, 0.0]\\nclass = Died'),\n",
       " Text(7.939920948616601, 98.36571428571429, 'gini = 0.5\\nsamples = 0.2%\\nvalue = [0.5, 0.5]\\nclass = Died'),\n",
       " Text(10.586561264822135, 108.72, 'gini = 0.0\\nsamples = 1.6%\\nvalue = [1.0, 0.0]\\nclass = Died'),\n",
       " Text(15.879841897233202, 129.42857142857144, 'Fare <= 7.183\\ngini = 0.278\\nsamples = 2.7%\\nvalue = [0.833, 0.167]\\nclass = Died'),\n",
       " Text(13.23320158102767, 119.07428571428571, 'gini = 0.0\\nsamples = 0.1%\\nvalue = [0.0, 1.0]\\nclass = Survived'),\n",
       " Text(18.526482213438737, 119.07428571428571, 'Fare <= 7.227\\ngini = 0.227\\nsamples = 2.6%\\nvalue = [0.87, 0.13]\\nclass = Died'),\n",
       " Text(15.879841897233202, 108.72, 'gini = 0.18\\nsamples = 1.1%\\nvalue = [0.9, 0.1]\\nclass = Died'),\n",
       " Text(21.17312252964427, 108.72, 'gini = 0.26\\nsamples = 1.5%\\nvalue = [0.846, 0.154]\\nclass = Died'),\n",
       " Text(23.819762845849805, 139.78285714285715, 'Fare <= 7.746\\ngini = 0.083\\nsamples = 5.2%\\nvalue = [0.957, 0.043]\\nclass = Died'),\n",
       " Text(21.17312252964427, 129.42857142857144, 'gini = 0.0\\nsamples = 3.0%\\nvalue = [1.0, 0.0]\\nclass = Died'),\n",
       " Text(26.46640316205534, 129.42857142857144, 'Embarked <= 1.0\\ngini = 0.188\\nsamples = 2.1%\\nvalue = [0.895, 0.105]\\nclass = Died'),\n",
       " Text(23.819762845849805, 119.07428571428571, 'gini = 0.0\\nsamples = 0.2%\\nvalue = [1.0, 0.0]\\nclass = Died'),\n",
       " Text(29.113043478260874, 119.07428571428571, 'gini = 0.208\\nsamples = 1.9%\\nvalue = [0.882, 0.118]\\nclass = Died'),\n",
       " Text(37.05296442687747, 160.49142857142857, 'Fare <= 7.798\\ngini = 0.278\\nsamples = 3.4%\\nvalue = [0.833, 0.167]\\nclass = Died'),\n",
       " Text(31.759683794466405, 150.13714285714286, 'Fare <= 7.785\\ngini = 0.332\\nsamples = 2.1%\\nvalue = [0.789, 0.211]\\nclass = Died'),\n",
       " Text(29.113043478260874, 139.78285714285715, 'gini = 0.26\\nsamples = 1.5%\\nvalue = [0.846, 0.154]\\nclass = Died'),\n",
       " Text(34.40632411067194, 139.78285714285715, 'gini = 0.444\\nsamples = 0.7%\\nvalue = [0.667, 0.333]\\nclass = Died'),\n",
       " Text(42.34624505928854, 150.13714285714286, 'Fare <= 7.842\\ngini = 0.165\\nsamples = 1.2%\\nvalue = [0.909, 0.091]\\nclass = Died'),\n",
       " Text(39.69960474308301, 139.78285714285715, 'gini = 0.0\\nsamples = 0.2%\\nvalue = [1.0, 0.0]\\nclass = Died'),\n",
       " Text(44.992885375494076, 139.78285714285715, 'gini = 0.198\\nsamples = 1.0%\\nvalue = [0.889, 0.111]\\nclass = Died'),\n",
       " Text(44.992885375494076, 170.84571428571428, 'Embarked <= 0.5\\ngini = 0.05\\nsamples = 4.4%\\nvalue = [0.974, 0.026]\\nclass = Died'),\n",
       " Text(42.34624505928854, 160.49142857142857, 'gini = 0.0\\nsamples = 3.8%\\nvalue = [1.0, 0.0]\\nclass = Died'),\n",
       " Text(47.63952569169961, 160.49142857142857, 'gini = 0.32\\nsamples = 0.6%\\nvalue = [0.8, 0.2]\\nclass = Died'),\n",
       " Text(83.36916996047432, 181.2, 'Fare <= 7.988\\ngini = 0.282\\nsamples = 26.4%\\nvalue = [0.83, 0.17]\\nclass = Died'),\n",
       " Text(80.72252964426879, 170.84571428571428, 'gini = 0.473\\nsamples = 1.5%\\nvalue = [0.615, 0.385]\\nclass = Died'),\n",
       " Text(86.01581027667984, 170.84571428571428, 'Embarked <= 0.5\\ngini = 0.266\\nsamples = 25.0%\\nvalue = [0.842, 0.158]\\nclass = Died'),\n",
       " Text(62.19604743083005, 160.49142857142857, 'Fare <= 15.875\\ngini = 0.239\\nsamples = 21.9%\\nvalue = [0.862, 0.138]\\nclass = Died'),\n",
       " Text(52.93280632411068, 150.13714285714286, 'Fare <= 14.75\\ngini = 0.219\\nsamples = 16.2%\\nvalue = [0.875, 0.125]\\nclass = Died'),\n",
       " Text(50.286166007905145, 139.78285714285715, 'Fare <= 9.492\\ngini = 0.225\\nsamples = 15.6%\\nvalue = [0.871, 0.129]\\nclass = Died'),\n",
       " Text(39.69960474308301, 129.42857142857144, 'Fare <= 8.135\\ngini = 0.192\\nsamples = 7.3%\\nvalue = [0.892, 0.108]\\nclass = Died'),\n",
       " Text(34.40632411067194, 119.07428571428571, 'Fare <= 8.081\\ngini = 0.245\\nsamples = 4.7%\\nvalue = [0.857, 0.143]\\nclass = Died'),\n",
       " Text(31.759683794466405, 108.72, 'gini = 0.214\\nsamples = 4.6%\\nvalue = [0.878, 0.122]\\nclass = Died'),\n",
       " Text(37.05296442687747, 108.72, 'gini = 0.0\\nsamples = 0.1%\\nvalue = [0.0, 1.0]\\nclass = Survived'),\n",
       " Text(44.992885375494076, 119.07428571428571, 'Fare <= 8.831\\ngini = 0.083\\nsamples = 2.6%\\nvalue = [0.957, 0.043]\\nclass = Died'),\n",
       " Text(42.34624505928854, 108.72, 'Fare <= 8.658\\ngini = 0.117\\nsamples = 1.8%\\nvalue = [0.938, 0.062]\\nclass = Died'),\n",
       " Text(39.69960474308301, 98.36571428571429, 'gini = 0.0\\nsamples = 0.7%\\nvalue = [1.0, 0.0]\\nclass = Died'),\n",
       " Text(44.992885375494076, 98.36571428571429, 'gini = 0.18\\nsamples = 1.1%\\nvalue = [0.9, 0.1]\\nclass = Died'),\n",
       " Text(47.63952569169961, 108.72, 'gini = 0.0\\nsamples = 0.8%\\nvalue = [1.0, 0.0]\\nclass = Died'),\n",
       " Text(60.87272727272728, 129.42857142857144, 'Pclass <= 2.5\\ngini = 0.253\\nsamples = 8.3%\\nvalue = [0.851, 0.149]\\nclass = Died'),\n",
       " Text(55.57944664031621, 119.07428571428571, 'Fare <= 14.25\\ngini = 0.222\\nsamples = 6.2%\\nvalue = [0.873, 0.127]\\nclass = Died'),\n",
       " Text(52.93280632411068, 108.72, 'Fare <= 13.25\\ngini = 0.198\\nsamples = 6.1%\\nvalue = [0.889, 0.111]\\nclass = Died'),\n",
       " Text(50.286166007905145, 98.36571428571429, 'Fare <= 12.762\\ngini = 0.211\\nsamples = 5.6%\\nvalue = [0.88, 0.12]\\nclass = Died'),\n",
       " Text(47.63952569169961, 88.01142857142858, 'Fare <= 11.0\\ngini = 0.165\\nsamples = 2.5%\\nvalue = [0.909, 0.091]\\nclass = Died'),\n",
       " Text(44.992885375494076, 77.65714285714284, 'gini = 0.219\\nsamples = 1.8%\\nvalue = [0.875, 0.125]\\nclass = Died'),\n",
       " Text(50.286166007905145, 77.65714285714284, 'gini = 0.0\\nsamples = 0.7%\\nvalue = [1.0, 0.0]\\nclass = Died'),\n",
       " Text(52.93280632411068, 88.01142857142858, 'gini = 0.245\\nsamples = 3.1%\\nvalue = [0.857, 0.143]\\nclass = Died'),\n",
       " Text(55.57944664031621, 98.36571428571429, 'gini = 0.0\\nsamples = 0.4%\\nvalue = [1.0, 0.0]\\nclass = Died'),\n",
       " Text(58.22608695652175, 108.72, 'gini = 0.0\\nsamples = 0.1%\\nvalue = [0.0, 1.0]\\nclass = Survived'),\n",
       " Text(66.16600790513834, 119.07428571428571, 'Fare <= 13.292\\ngini = 0.332\\nsamples = 2.1%\\nvalue = [0.789, 0.211]\\nclass = Died'),\n",
       " Text(63.51936758893281, 108.72, 'Fare <= 10.652\\ngini = 0.426\\nsamples = 1.5%\\nvalue = [0.692, 0.308]\\nclass = Died'),\n",
       " Text(60.87272727272728, 98.36571428571429, 'Fare <= 9.673\\ngini = 0.298\\nsamples = 1.2%\\nvalue = [0.818, 0.182]\\nclass = Died'),\n",
       " Text(58.22608695652175, 88.01142857142858, 'gini = 0.346\\nsamples = 1.0%\\nvalue = [0.778, 0.222]\\nclass = Died'),\n",
       " Text(63.51936758893281, 88.01142857142858, 'gini = 0.0\\nsamples = 0.2%\\nvalue = [1.0, 0.0]\\nclass = Died'),\n",
       " Text(66.16600790513834, 98.36571428571429, 'gini = 0.0\\nsamples = 0.2%\\nvalue = [0.0, 1.0]\\nclass = Survived'),\n",
       " Text(68.81264822134388, 108.72, 'gini = 0.0\\nsamples = 0.7%\\nvalue = [1.0, 0.0]\\nclass = Died'),\n",
       " Text(55.57944664031621, 139.78285714285715, 'gini = 0.0\\nsamples = 0.6%\\nvalue = [1.0, 0.0]\\nclass = Died'),\n",
       " Text(71.45928853754941, 150.13714285714286, 'Fare <= 16.0\\ngini = 0.291\\nsamples = 5.7%\\nvalue = [0.824, 0.176]\\nclass = Died'),\n",
       " Text(68.81264822134388, 139.78285714285715, 'gini = 0.0\\nsamples = 0.2%\\nvalue = [0.0, 1.0]\\nclass = Survived'),\n",
       " Text(74.10592885375495, 139.78285714285715, 'Fare <= 18.375\\ngini = 0.245\\nsamples = 5.5%\\nvalue = [0.857, 0.143]\\nclass = Died'),\n",
       " Text(71.45928853754941, 129.42857142857144, 'gini = 0.0\\nsamples = 0.9%\\nvalue = [1.0, 0.0]\\nclass = Died'),\n",
       " Text(76.75256916996048, 129.42857142857144, 'Fare <= 19.358\\ngini = 0.283\\nsamples = 4.6%\\nvalue = [0.829, 0.171]\\nclass = Died'),\n",
       " Text(74.10592885375495, 119.07428571428571, 'gini = 0.0\\nsamples = 0.2%\\nvalue = [0.0, 1.0]\\nclass = Survived'),\n",
       " Text(79.39920948616601, 119.07428571428571, 'Fare <= 20.788\\ngini = 0.224\\nsamples = 4.4%\\nvalue = [0.872, 0.128]\\nclass = Died'),\n",
       " Text(74.10592885375495, 108.72, 'Fare <= 20.387\\ngini = 0.375\\nsamples = 0.9%\\nvalue = [0.75, 0.25]\\nclass = Died'),\n",
       " Text(71.45928853754941, 98.36571428571429, 'gini = 0.0\\nsamples = 0.4%\\nvalue = [1.0, 0.0]\\nclass = Died'),\n",
       " Text(76.75256916996048, 98.36571428571429, 'Fare <= 20.55\\ngini = 0.5\\nsamples = 0.4%\\nvalue = [0.5, 0.5]\\nclass = Died'),\n",
       " Text(74.10592885375495, 88.01142857142858, 'gini = 0.5\\nsamples = 0.2%\\nvalue = [0.5, 0.5]\\nclass = Died'),\n",
       " Text(79.39920948616601, 88.01142857142858, 'gini = 0.5\\nsamples = 0.2%\\nvalue = [0.5, 0.5]\\nclass = Died'),\n",
       " Text(84.69249011857708, 108.72, 'Fare <= 25.962\\ngini = 0.175\\nsamples = 3.5%\\nvalue = [0.903, 0.097]\\nclass = Died'),\n",
       " Text(82.04584980237155, 98.36571428571429, 'gini = 0.0\\nsamples = 1.3%\\nvalue = [1.0, 0.0]\\nclass = Died'),\n",
       " Text(87.33913043478262, 98.36571428571429, 'Pclass <= 1.5\\ngini = 0.266\\nsamples = 2.1%\\nvalue = [0.842, 0.158]\\nclass = Died'),\n",
       " Text(84.69249011857708, 88.01142857142858, 'gini = 0.0\\nsamples = 0.2%\\nvalue = [1.0, 0.0]\\nclass = Died'),\n",
       " Text(89.98577075098815, 88.01142857142858, 'Fare <= 26.125\\ngini = 0.291\\nsamples = 1.9%\\nvalue = [0.824, 0.176]\\nclass = Died'),\n",
       " Text(87.33913043478262, 77.65714285714284, 'gini = 0.32\\nsamples = 1.7%\\nvalue = [0.8, 0.2]\\nclass = Died'),\n",
       " Text(92.63241106719369, 77.65714285714284, 'gini = 0.0\\nsamples = 0.2%\\nvalue = [1.0, 0.0]\\nclass = Died'),\n",
       " Text(109.83557312252965, 160.49142857142857, 'Embarked <= 1.5\\ngini = 0.417\\nsamples = 3.0%\\nvalue = [0.704, 0.296]\\nclass = Died'),\n",
       " Text(103.21897233201582, 150.13714285714286, 'Fare <= 8.59\\ngini = 0.475\\nsamples = 2.0%\\nvalue = [0.611, 0.389]\\nclass = Died'),\n",
       " Text(100.57233201581029, 139.78285714285715, 'gini = 0.0\\nsamples = 0.1%\\nvalue = [0.0, 1.0]\\nclass = Survived'),\n",
       " Text(105.86561264822136, 139.78285714285715, 'Fare <= 15.148\\ngini = 0.457\\nsamples = 1.9%\\nvalue = [0.647, 0.353]\\nclass = Died'),\n",
       " Text(100.57233201581029, 129.42857142857144, 'Fare <= 14.158\\ngini = 0.32\\nsamples = 1.1%\\nvalue = [0.8, 0.2]\\nclass = Died'),\n",
       " Text(97.92569169960476, 119.07428571428571, 'Fare <= 9.977\\ngini = 0.48\\nsamples = 0.6%\\nvalue = [0.6, 0.4]\\nclass = Died'),\n",
       " Text(95.27905138339922, 108.72, 'gini = 0.0\\nsamples = 0.2%\\nvalue = [1.0, 0.0]\\nclass = Died'),\n",
       " Text(100.57233201581029, 108.72, 'Pclass <= 2.5\\ngini = 0.444\\nsamples = 0.3%\\nvalue = [0.333, 0.667]\\nclass = Survived'),\n",
       " Text(97.92569169960476, 98.36571428571429, 'Fare <= 13.369\\ngini = 0.5\\nsamples = 0.2%\\nvalue = [0.5, 0.5]\\nclass = Died'),\n",
       " Text(95.27905138339922, 88.01142857142858, 'gini = 0.0\\nsamples = 0.1%\\nvalue = [1.0, 0.0]\\nclass = Died'),\n",
       " Text(100.57233201581029, 88.01142857142858, 'gini = 0.0\\nsamples = 0.1%\\nvalue = [0.0, 1.0]\\nclass = Survived'),\n",
       " Text(103.21897233201582, 98.36571428571429, 'gini = 0.0\\nsamples = 0.1%\\nvalue = [0.0, 1.0]\\nclass = Survived'),\n",
       " Text(103.21897233201582, 119.07428571428571, 'gini = 0.0\\nsamples = 0.6%\\nvalue = [1.0, 0.0]\\nclass = Died'),\n",
       " Text(111.15889328063243, 129.42857142857144, 'Fare <= 17.265\\ngini = 0.49\\nsamples = 0.8%\\nvalue = [0.429, 0.571]\\nclass = Survived'),\n",
       " Text(108.51225296442689, 119.07428571428571, 'gini = 0.0\\nsamples = 0.3%\\nvalue = [0.0, 1.0]\\nclass = Survived'),\n",
       " Text(113.80553359683796, 119.07428571428571, 'Fare <= 20.233\\ngini = 0.375\\nsamples = 0.4%\\nvalue = [0.75, 0.25]\\nclass = Died'),\n",
       " Text(111.15889328063243, 108.72, 'gini = 0.5\\nsamples = 0.2%\\nvalue = [0.5, 0.5]\\nclass = Died'),\n",
       " Text(116.4521739130435, 108.72, 'gini = 0.0\\nsamples = 0.2%\\nvalue = [1.0, 0.0]\\nclass = Died'),\n",
       " Text(116.4521739130435, 150.13714285714286, 'Fare <= 19.375\\ngini = 0.198\\nsamples = 1.0%\\nvalue = [0.889, 0.111]\\nclass = Died'),\n",
       " Text(113.80553359683796, 139.78285714285715, 'gini = 0.0\\nsamples = 0.7%\\nvalue = [1.0, 0.0]\\nclass = Died'),\n",
       " Text(119.09881422924903, 139.78285714285715, 'Fare <= 23.7\\ngini = 0.444\\nsamples = 0.3%\\nvalue = [0.667, 0.333]\\nclass = Died'),\n",
       " Text(116.4521739130435, 129.42857142857144, 'gini = 0.0\\nsamples = 0.1%\\nvalue = [0.0, 1.0]\\nclass = Survived'),\n",
       " Text(121.74545454545456, 129.42857142857144, 'gini = 0.0\\nsamples = 0.2%\\nvalue = [1.0, 0.0]\\nclass = Died'),\n",
       " Text(190.14456521739132, 191.5542857142857, 'Fare <= 26.469\\ngini = 0.448\\nsamples = 18.2%\\nvalue = [0.66, 0.34]\\nclass = Died'),\n",
       " Text(187.4979249011858, 181.2, 'gini = 0.0\\nsamples = 0.4%\\nvalue = [0.0, 1.0]\\nclass = Survived'),\n",
       " Text(192.79120553359687, 181.2, 'Pclass <= 1.5\\ngini = 0.437\\nsamples = 17.8%\\nvalue = [0.677, 0.323]\\nclass = Died'),\n",
       " Text(173.85118577075102, 170.84571428571428, 'Fare <= 387.665\\ngini = 0.471\\nsamples = 12.1%\\nvalue = [0.62, 0.38]\\nclass = Died'),\n",
       " Text(171.20454545454547, 160.49142857142857, 'Fare <= 152.506\\ngini = 0.465\\nsamples = 11.9%\\nvalue = [0.632, 0.368]\\nclass = Died'),\n",
       " Text(168.55790513833995, 150.13714285714286, 'Fare <= 116.638\\ngini = 0.478\\nsamples = 11.1%\\nvalue = [0.606, 0.394]\\nclass = Died'),\n",
       " Text(155.15928853754943, 139.78285714285715, 'Fare <= 30.598\\ngini = 0.467\\nsamples = 10.6%\\nvalue = [0.628, 0.372]\\nclass = Died'),\n",
       " Text(136.30197628458498, 129.42857142857144, 'Fare <= 29.85\\ngini = 0.499\\nsamples = 3.5%\\nvalue = [0.516, 0.484]\\nclass = Died'),\n",
       " Text(127.03873517786562, 119.07428571428571, 'Fare <= 27.135\\ngini = 0.463\\nsamples = 2.5%\\nvalue = [0.636, 0.364]\\nclass = Died'),\n",
       " Text(121.74545454545456, 108.72, 'Embarked <= 0.5\\ngini = 0.5\\nsamples = 1.6%\\nvalue = [0.5, 0.5]\\nclass = Died'),\n",
       " Text(119.09881422924903, 98.36571428571429, 'gini = 0.497\\nsamples = 1.5%\\nvalue = [0.538, 0.462]\\nclass = Died'),\n",
       " Text(124.3920948616601, 98.36571428571429, 'gini = 0.0\\nsamples = 0.1%\\nvalue = [0.0, 1.0]\\nclass = Survived'),\n",
       " Text(132.3320158102767, 108.72, 'Fare <= 29.1\\ngini = 0.219\\nsamples = 0.9%\\nvalue = [0.875, 0.125]\\nclass = Died'),\n",
       " Text(129.68537549407117, 98.36571428571429, 'gini = 0.0\\nsamples = 0.6%\\nvalue = [1.0, 0.0]\\nclass = Died'),\n",
       " Text(134.97865612648224, 98.36571428571429, 'gini = 0.444\\nsamples = 0.3%\\nvalue = [0.667, 0.333]\\nclass = Died'),\n",
       " Text(145.56521739130437, 119.07428571428571, 'Embarked <= 0.5\\ngini = 0.346\\nsamples = 1.0%\\nvalue = [0.222, 0.778]\\nclass = Survived'),\n",
       " Text(142.91857707509882, 108.72, 'Fare <= 30.25\\ngini = 0.408\\nsamples = 0.8%\\nvalue = [0.286, 0.714]\\nclass = Survived'),\n",
       " Text(140.2719367588933, 98.36571428571429, 'gini = 0.444\\nsamples = 0.3%\\nvalue = [0.333, 0.667]\\nclass = Survived'),\n",
       " Text(145.56521739130437, 98.36571428571429, 'gini = 0.375\\nsamples = 0.4%\\nvalue = [0.25, 0.75]\\nclass = Survived'),\n",
       " Text(148.2118577075099, 108.72, 'gini = 0.0\\nsamples = 0.2%\\nvalue = [0.0, 1.0]\\nclass = Survived'),\n",
       " Text(174.01660079051385, 129.42857142857144, 'Fare <= 52.277\\ngini = 0.433\\nsamples = 7.1%\\nvalue = [0.683, 0.317]\\nclass = Died'),\n",
       " Text(162.76837944664032, 119.07428571428571, 'Fare <= 37.0\\ngini = 0.302\\nsamples = 3.0%\\nvalue = [0.815, 0.185]\\nclass = Died'),\n",
       " Text(156.1517786561265, 108.72, 'Fare <= 35.25\\ngini = 0.426\\nsamples = 1.5%\\nvalue = [0.692, 0.308]\\nclass = Died'),\n",
       " Text(150.85849802371544, 98.36571428571429, 'Embarked <= 0.5\\ngini = 0.198\\nsamples = 1.0%\\nvalue = [0.889, 0.111]\\nclass = Died'),\n",
       " Text(148.2118577075099, 88.01142857142858, 'gini = 0.0\\nsamples = 0.6%\\nvalue = [1.0, 0.0]\\nclass = Died'),\n",
       " Text(153.50513833992096, 88.01142857142858, 'Fare <= 30.848\\ngini = 0.375\\nsamples = 0.4%\\nvalue = [0.75, 0.25]\\nclass = Died'),\n",
       " Text(150.85849802371544, 77.65714285714284, 'gini = 0.0\\nsamples = 0.2%\\nvalue = [1.0, 0.0]\\nclass = Died'),\n",
       " Text(156.1517786561265, 77.65714285714284, 'Fare <= 32.827\\ngini = 0.5\\nsamples = 0.2%\\nvalue = [0.5, 0.5]\\nclass = Died'),\n",
       " Text(153.50513833992096, 67.30285714285714, 'gini = 0.0\\nsamples = 0.1%\\nvalue = [0.0, 1.0]\\nclass = Survived'),\n",
       " Text(158.79841897233203, 67.30285714285714, 'gini = 0.0\\nsamples = 0.1%\\nvalue = [1.0, 0.0]\\nclass = Died'),\n",
       " Text(161.44505928853758, 98.36571428571429, 'Embarked <= 0.5\\ngini = 0.375\\nsamples = 0.4%\\nvalue = [0.25, 0.75]\\nclass = Survived'),\n",
       " Text(158.79841897233203, 88.01142857142858, 'gini = 0.444\\nsamples = 0.3%\\nvalue = [0.333, 0.667]\\nclass = Survived'),\n",
       " Text(164.0916996047431, 88.01142857142858, 'gini = 0.0\\nsamples = 0.1%\\nvalue = [0.0, 1.0]\\nclass = Survived'),\n",
       " Text(169.38498023715417, 108.72, 'Fare <= 51.931\\ngini = 0.133\\nsamples = 1.6%\\nvalue = [0.929, 0.071]\\nclass = Died'),\n",
       " Text(166.73833992094865, 98.36571428571429, 'gini = 0.0\\nsamples = 1.0%\\nvalue = [1.0, 0.0]\\nclass = Died'),\n",
       " Text(172.0316205533597, 98.36571428571429, 'gini = 0.32\\nsamples = 0.6%\\nvalue = [0.8, 0.2]\\nclass = Died'),\n",
       " Text(185.26482213438737, 119.07428571428571, 'Fare <= 59.087\\ngini = 0.486\\nsamples = 4.0%\\nvalue = [0.583, 0.417]\\nclass = Died'),\n",
       " Text(179.9715415019763, 108.72, 'Fare <= 52.827\\ngini = 0.444\\nsamples = 1.0%\\nvalue = [0.333, 0.667]\\nclass = Survived'),\n",
       " Text(177.32490118577076, 98.36571428571429, 'gini = 0.0\\nsamples = 0.2%\\nvalue = [0.0, 1.0]\\nclass = Survived'),\n",
       " Text(182.61818181818182, 98.36571428571429, 'Embarked <= 0.5\\ngini = 0.49\\nsamples = 0.8%\\nvalue = [0.429, 0.571]\\nclass = Survived'),\n",
       " Text(179.9715415019763, 88.01142857142858, 'Fare <= 56.45\\ngini = 0.48\\nsamples = 0.6%\\nvalue = [0.6, 0.4]\\nclass = Died'),\n",
       " Text(177.32490118577076, 77.65714285714284, 'Fare <= 54.5\\ngini = 0.375\\nsamples = 0.4%\\nvalue = [0.75, 0.25]\\nclass = Died'),\n",
       " Text(174.67826086956524, 67.30285714285714, 'gini = 0.444\\nsamples = 0.3%\\nvalue = [0.667, 0.333]\\nclass = Died'),\n",
       " Text(179.9715415019763, 67.30285714285714, 'gini = 0.0\\nsamples = 0.1%\\nvalue = [1.0, 0.0]\\nclass = Died'),\n",
       " Text(182.61818181818182, 77.65714285714284, 'gini = 0.0\\nsamples = 0.1%\\nvalue = [0.0, 1.0]\\nclass = Survived'),\n",
       " Text(185.26482213438737, 88.01142857142858, 'gini = 0.0\\nsamples = 0.2%\\nvalue = [0.0, 1.0]\\nclass = Survived'),\n",
       " Text(190.55810276679844, 108.72, 'Fare <= 62.669\\ngini = 0.444\\nsamples = 3.0%\\nvalue = [0.667, 0.333]\\nclass = Died'),\n",
       " Text(187.9114624505929, 98.36571428571429, 'gini = 0.0\\nsamples = 0.3%\\nvalue = [1.0, 0.0]\\nclass = Died'),\n",
       " Text(193.20474308300396, 98.36571428571429, 'Fare <= 64.979\\ngini = 0.469\\nsamples = 2.7%\\nvalue = [0.625, 0.375]\\nclass = Died'),\n",
       " Text(190.55810276679844, 88.01142857142858, 'gini = 0.0\\nsamples = 0.1%\\nvalue = [0.0, 1.0]\\nclass = Survived'),\n",
       " Text(195.8513833992095, 88.01142857142858, 'Fare <= 73.865\\ngini = 0.454\\nsamples = 2.6%\\nvalue = [0.652, 0.348]\\nclass = Died'),\n",
       " Text(193.20474308300396, 77.65714285714284, 'gini = 0.0\\nsamples = 0.2%\\nvalue = [1.0, 0.0]\\nclass = Died'),\n",
       " Text(198.49802371541503, 77.65714285714284, 'Fare <= 77.008\\ngini = 0.472\\nsamples = 2.4%\\nvalue = [0.619, 0.381]\\nclass = Died'),\n",
       " Text(195.8513833992095, 67.30285714285714, 'gini = 0.0\\nsamples = 0.2%\\nvalue = [0.0, 1.0]\\nclass = Survived'),\n",
       " Text(201.14466403162058, 67.30285714285714, 'Fare <= 79.025\\ngini = 0.432\\nsamples = 2.1%\\nvalue = [0.684, 0.316]\\nclass = Died'),\n",
       " Text(198.49802371541503, 56.94857142857143, 'gini = 0.0\\nsamples = 0.3%\\nvalue = [1.0, 0.0]\\nclass = Died'),\n",
       " Text(203.7913043478261, 56.94857142857143, 'Fare <= 98.752\\ngini = 0.469\\nsamples = 1.8%\\nvalue = [0.625, 0.375]\\nclass = Died'),\n",
       " Text(197.17470355731228, 46.59428571428572, 'Fare <= 86.29\\ngini = 0.496\\nsamples = 1.2%\\nvalue = [0.545, 0.455]\\nclass = Died'),\n",
       " Text(191.88142292490122, 36.24000000000001, 'Fare <= 82.015\\ngini = 0.408\\nsamples = 0.8%\\nvalue = [0.714, 0.286]\\nclass = Died'),\n",
       " Text(189.23478260869567, 25.8857142857143, 'Fare <= 80.754\\ngini = 0.48\\nsamples = 0.6%\\nvalue = [0.6, 0.4]\\nclass = Died'),\n",
       " Text(186.58814229249015, 15.531428571428563, 'Fare <= 79.425\\ngini = 0.375\\nsamples = 0.4%\\nvalue = [0.75, 0.25]\\nclass = Died'),\n",
       " Text(183.9415019762846, 5.177142857142854, 'gini = 0.444\\nsamples = 0.3%\\nvalue = [0.667, 0.333]\\nclass = Died'),\n",
       " Text(189.23478260869567, 5.177142857142854, 'gini = 0.0\\nsamples = 0.1%\\nvalue = [1.0, 0.0]\\nclass = Died'),\n",
       " Text(191.88142292490122, 15.531428571428563, 'gini = 0.0\\nsamples = 0.1%\\nvalue = [0.0, 1.0]\\nclass = Survived'),\n",
       " Text(194.52806324110674, 25.8857142857143, 'gini = 0.0\\nsamples = 0.2%\\nvalue = [1.0, 0.0]\\nclass = Died'),\n",
       " Text(202.46798418972335, 36.24000000000001, 'Embarked <= 1.5\\ngini = 0.375\\nsamples = 0.4%\\nvalue = [0.25, 0.75]\\nclass = Survived'),\n",
       " Text(199.8213438735178, 25.8857142857143, 'gini = 0.0\\nsamples = 0.3%\\nvalue = [0.0, 1.0]\\nclass = Survived'),\n",
       " Text(205.11462450592887, 25.8857142857143, 'gini = 0.0\\nsamples = 0.1%\\nvalue = [1.0, 0.0]\\nclass = Died'),\n",
       " Text(210.40790513833994, 46.59428571428572, 'Fare <= 109.892\\ngini = 0.32\\nsamples = 0.6%\\nvalue = [0.8, 0.2]\\nclass = Died'),\n",
       " Text(207.76126482213442, 36.24000000000001, 'gini = 0.0\\nsamples = 0.2%\\nvalue = [1.0, 0.0]\\nclass = Died'),\n",
       " Text(213.05454545454546, 36.24000000000001, 'Fare <= 112.079\\ngini = 0.444\\nsamples = 0.3%\\nvalue = [0.667, 0.333]\\nclass = Died'),\n",
       " Text(210.40790513833994, 25.8857142857143, 'gini = 0.5\\nsamples = 0.2%\\nvalue = [0.5, 0.5]\\nclass = Died'),\n",
       " Text(215.701185770751, 25.8857142857143, 'gini = 0.0\\nsamples = 0.1%\\nvalue = [1.0, 0.0]\\nclass = Died'),\n",
       " Text(181.95652173913047, 139.78285714285715, 'Embarked <= 0.5\\ngini = 0.32\\nsamples = 0.6%\\nvalue = [0.2, 0.8]\\nclass = Survived'),\n",
       " Text(179.30988142292492, 129.42857142857144, 'gini = 0.0\\nsamples = 0.4%\\nvalue = [0.0, 1.0]\\nclass = Survived'),\n",
       " Text(184.60316205533599, 129.42857142857144, 'gini = 0.0\\nsamples = 0.1%\\nvalue = [1.0, 0.0]\\nclass = Died'),\n",
       " Text(173.85118577075102, 150.13714285714286, 'gini = 0.0\\nsamples = 0.8%\\nvalue = [1.0, 0.0]\\nclass = Died'),\n",
       " Text(176.49782608695654, 160.49142857142857, 'gini = 0.0\\nsamples = 0.2%\\nvalue = [0.0, 1.0]\\nclass = Survived'),\n",
       " Text(211.73122529644272, 170.84571428571428, 'Fare <= 63.023\\ngini = 0.32\\nsamples = 5.6%\\nvalue = [0.8, 0.2]\\nclass = Died'),\n",
       " Text(209.08458498023717, 160.49142857142857, 'Fare <= 51.698\\ngini = 0.369\\nsamples = 4.6%\\nvalue = [0.756, 0.244]\\nclass = Died'),\n",
       " Text(206.43794466403165, 150.13714285714286, 'Pclass <= 2.5\\ngini = 0.251\\nsamples = 3.8%\\nvalue = [0.853, 0.147]\\nclass = Died'),\n",
       " Text(198.49802371541503, 139.78285714285715, 'Fare <= 28.375\\ngini = 0.426\\nsamples = 1.5%\\nvalue = [0.692, 0.308]\\nclass = Died'),\n",
       " Text(195.8513833992095, 129.42857142857144, 'gini = 0.0\\nsamples = 0.3%\\nvalue = [1.0, 0.0]\\nclass = Died'),\n",
       " Text(201.14466403162058, 129.42857142857144, 'Fare <= 29.535\\ngini = 0.48\\nsamples = 1.1%\\nvalue = [0.6, 0.4]\\nclass = Died'),\n",
       " Text(198.49802371541503, 119.07428571428571, 'gini = 0.0\\nsamples = 0.1%\\nvalue = [0.0, 1.0]\\nclass = Survived'),\n",
       " Text(203.7913043478261, 119.07428571428571, 'Fare <= 34.875\\ngini = 0.444\\nsamples = 1.0%\\nvalue = [0.667, 0.333]\\nclass = Died'),\n",
       " Text(201.14466403162058, 108.72, 'gini = 0.0\\nsamples = 0.2%\\nvalue = [1.0, 0.0]\\nclass = Died'),\n",
       " Text(206.43794466403165, 108.72, 'Fare <= 40.29\\ngini = 0.49\\nsamples = 0.8%\\nvalue = [0.571, 0.429]\\nclass = Died'),\n",
       " Text(203.7913043478261, 98.36571428571429, 'Fare <= 36.877\\ngini = 0.5\\nsamples = 0.7%\\nvalue = [0.5, 0.5]\\nclass = Died'),\n",
       " Text(201.14466403162058, 88.01142857142858, 'gini = 0.5\\nsamples = 0.2%\\nvalue = [0.5, 0.5]\\nclass = Died'),\n",
       " Text(206.43794466403165, 88.01142857142858, 'Fare <= 38.002\\ngini = 0.5\\nsamples = 0.4%\\nvalue = [0.5, 0.5]\\nclass = Died'),\n",
       " Text(203.7913043478261, 77.65714285714284, 'gini = 0.5\\nsamples = 0.2%\\nvalue = [0.5, 0.5]\\nclass = Died'),\n",
       " Text(209.08458498023717, 77.65714285714284, 'gini = 0.5\\nsamples = 0.2%\\nvalue = [0.5, 0.5]\\nclass = Died'),\n",
       " Text(209.08458498023717, 98.36571428571429, 'gini = 0.0\\nsamples = 0.1%\\nvalue = [1.0, 0.0]\\nclass = Died'),\n",
       " Text(214.37786561264824, 139.78285714285715, 'Fare <= 32.881\\ngini = 0.091\\nsamples = 2.4%\\nvalue = [0.952, 0.048]\\nclass = Died'),\n",
       " Text(211.73122529644272, 129.42857142857144, 'Fare <= 31.331\\ngini = 0.165\\nsamples = 1.2%\\nvalue = [0.909, 0.091]\\nclass = Died'),\n",
       " Text(209.08458498023717, 119.07428571428571, 'gini = 0.0\\nsamples = 1.0%\\nvalue = [1.0, 0.0]\\nclass = Died'),\n",
       " Text(214.37786561264824, 119.07428571428571, 'gini = 0.5\\nsamples = 0.2%\\nvalue = [0.5, 0.5]\\nclass = Died'),\n",
       " Text(217.02450592885378, 129.42857142857144, 'gini = 0.0\\nsamples = 1.1%\\nvalue = [1.0, 0.0]\\nclass = Died'),\n",
       " Text(211.73122529644272, 150.13714285714286, 'gini = 0.408\\nsamples = 0.8%\\nvalue = [0.286, 0.714]\\nclass = Survived'),\n",
       " Text(214.37786561264824, 160.49142857142857, 'gini = 0.0\\nsamples = 1.0%\\nvalue = [1.0, 0.0]\\nclass = Died'),\n",
       " Text(271.5287549407115, 201.90857142857143, 'Pclass <= 2.5\\ngini = 0.384\\nsamples = 35.1%\\nvalue = [0.26, 0.74]\\nclass = Survived'),\n",
       " Text(238.19762845849806, 191.5542857142857, 'Fare <= 28.856\\ngini = 0.101\\nsamples = 18.9%\\nvalue = [0.054, 0.946]\\nclass = Survived'),\n",
       " Text(232.904347826087, 181.2, 'Fare <= 28.231\\ngini = 0.18\\nsamples = 7.9%\\nvalue = [0.1, 0.9]\\nclass = Survived'),\n",
       " Text(230.25770750988144, 170.84571428571428, 'Fare <= 26.125\\ngini = 0.159\\nsamples = 7.8%\\nvalue = [0.087, 0.913]\\nclass = Survived'),\n",
       " Text(227.61106719367592, 160.49142857142857, 'Embarked <= 0.5\\ngini = 0.183\\nsamples = 6.6%\\nvalue = [0.102, 0.898]\\nclass = Survived'),\n",
       " Text(224.96442687747037, 150.13714285714286, 'Pclass <= 1.5\\ngini = 0.201\\nsamples = 6.0%\\nvalue = [0.113, 0.887]\\nclass = Survived'),\n",
       " Text(222.31778656126485, 139.78285714285715, 'gini = 0.0\\nsamples = 0.2%\\nvalue = [0.0, 1.0]\\nclass = Survived'),\n",
       " Text(227.61106719367592, 139.78285714285715, 'Fare <= 20.25\\ngini = 0.208\\nsamples = 5.7%\\nvalue = [0.118, 0.882]\\nclass = Survived'),\n",
       " Text(222.31778656126485, 129.42857142857144, 'Fare <= 13.25\\ngini = 0.18\\nsamples = 3.4%\\nvalue = [0.1, 0.9]\\nclass = Survived'),\n",
       " Text(219.6711462450593, 119.07428571428571, 'Fare <= 12.825\\ngini = 0.227\\nsamples = 2.6%\\nvalue = [0.13, 0.87]\\nclass = Survived'),\n",
       " Text(217.02450592885378, 108.72, 'Fare <= 11.575\\ngini = 0.198\\nsamples = 1.0%\\nvalue = [0.111, 0.889]\\nclass = Survived'),\n",
       " Text(214.37786561264824, 98.36571428571429, 'gini = 0.219\\nsamples = 0.9%\\nvalue = [0.125, 0.875]\\nclass = Survived'),\n",
       " Text(219.6711462450593, 98.36571428571429, 'gini = 0.0\\nsamples = 0.1%\\nvalue = [0.0, 1.0]\\nclass = Survived'),\n",
       " Text(222.31778656126485, 108.72, 'gini = 0.245\\nsamples = 1.6%\\nvalue = [0.143, 0.857]\\nclass = Survived'),\n",
       " Text(224.96442687747037, 119.07428571428571, 'gini = 0.0\\nsamples = 0.8%\\nvalue = [0.0, 1.0]\\nclass = Survived'),\n",
       " Text(232.904347826087, 129.42857142857144, 'Fare <= 22.0\\ngini = 0.245\\nsamples = 2.4%\\nvalue = [0.143, 0.857]\\nclass = Survived'),\n",
       " Text(230.25770750988144, 119.07428571428571, 'gini = 0.444\\nsamples = 0.3%\\nvalue = [0.333, 0.667]\\nclass = Survived'),\n",
       " Text(235.5509881422925, 119.07428571428571, 'Fare <= 24.5\\ngini = 0.198\\nsamples = 2.0%\\nvalue = [0.111, 0.889]\\nclass = Survived'),\n",
       " Text(232.904347826087, 108.72, 'gini = 0.0\\nsamples = 0.4%\\nvalue = [0.0, 1.0]\\nclass = Survived'),\n",
       " Text(238.19762845849806, 108.72, 'gini = 0.245\\nsamples = 1.6%\\nvalue = [0.143, 0.857]\\nclass = Survived'),\n",
       " Text(230.25770750988144, 150.13714285714286, 'gini = 0.0\\nsamples = 0.7%\\nvalue = [0.0, 1.0]\\nclass = Survived'),\n",
       " Text(232.904347826087, 160.49142857142857, 'gini = 0.0\\nsamples = 1.1%\\nvalue = [0.0, 1.0]\\nclass = Survived'),\n",
       " Text(235.5509881422925, 170.84571428571428, 'gini = 0.0\\nsamples = 0.1%\\nvalue = [1.0, 0.0]\\nclass = Died'),\n",
       " Text(243.49090909090913, 181.2, 'Fare <= 149.035\\ngini = 0.04\\nsamples = 11.0%\\nvalue = [0.02, 0.98]\\nclass = Survived'),\n",
       " Text(240.84426877470358, 170.84571428571428, 'gini = 0.0\\nsamples = 8.9%\\nvalue = [0.0, 1.0]\\nclass = Survived'),\n",
       " Text(246.13754940711465, 170.84571428571428, 'Fare <= 152.506\\ngini = 0.188\\nsamples = 2.1%\\nvalue = [0.105, 0.895]\\nclass = Survived'),\n",
       " Text(243.49090909090913, 160.49142857142857, 'gini = 0.444\\nsamples = 0.3%\\nvalue = [0.667, 0.333]\\nclass = Died'),\n",
       " Text(248.7841897233202, 160.49142857142857, 'gini = 0.0\\nsamples = 1.8%\\nvalue = [0.0, 1.0]\\nclass = Survived'),\n",
       " Text(304.85988142292496, 191.5542857142857, 'Fare <= 23.35\\ngini = 0.5\\nsamples = 16.2%\\nvalue = [0.5, 0.5]\\nclass = Died'),\n",
       " Text(285.506324110672, 181.2, 'Embarked <= 0.5\\ngini = 0.484\\nsamples = 13.2%\\nvalue = [0.41, 0.59]\\nclass = Survived'),\n",
       " Text(265.32569169960476, 170.84571428571428, 'Fare <= 10.825\\ngini = 0.5\\nsamples = 7.1%\\nvalue = [0.508, 0.492]\\nclass = Died'),\n",
       " Text(254.07747035573124, 160.49142857142857, 'Fare <= 7.988\\ngini = 0.482\\nsamples = 4.2%\\nvalue = [0.595, 0.405]\\nclass = Died'),\n",
       " Text(247.46086956521742, 150.13714285714286, 'Fare <= 7.523\\ngini = 0.495\\nsamples = 2.2%\\nvalue = [0.45, 0.55]\\nclass = Survived'),\n",
       " Text(244.81422924901187, 139.78285714285715, 'gini = 0.0\\nsamples = 0.2%\\nvalue = [0.0, 1.0]\\nclass = Survived'),\n",
       " Text(250.10750988142294, 139.78285714285715, 'Fare <= 7.7\\ngini = 0.5\\nsamples = 2.0%\\nvalue = [0.5, 0.5]\\nclass = Died'),\n",
       " Text(244.81422924901187, 129.42857142857144, 'Fare <= 7.6\\ngini = 0.444\\nsamples = 0.3%\\nvalue = [0.333, 0.667]\\nclass = Survived'),\n",
       " Text(242.16758893280635, 119.07428571428571, 'gini = 0.5\\nsamples = 0.2%\\nvalue = [0.5, 0.5]\\nclass = Died'),\n",
       " Text(247.46086956521742, 119.07428571428571, 'gini = 0.0\\nsamples = 0.1%\\nvalue = [0.0, 1.0]\\nclass = Survived'),\n",
       " Text(255.400790513834, 129.42857142857144, 'Fare <= 7.91\\ngini = 0.498\\nsamples = 1.7%\\nvalue = [0.533, 0.467]\\nclass = Died'),\n",
       " Text(252.7541501976285, 119.07428571428571, 'Fare <= 7.875\\ngini = 0.48\\nsamples = 1.1%\\nvalue = [0.6, 0.4]\\nclass = Died'),\n",
       " Text(250.10750988142294, 108.72, 'Fare <= 7.815\\ngini = 0.494\\nsamples = 1.0%\\nvalue = [0.556, 0.444]\\nclass = Died'),\n",
       " Text(247.46086956521742, 98.36571428571429, 'Fare <= 7.763\\ngini = 0.48\\nsamples = 0.6%\\nvalue = [0.6, 0.4]\\nclass = Died'),\n",
       " Text(244.81422924901187, 88.01142857142858, 'gini = 0.5\\nsamples = 0.2%\\nvalue = [0.5, 0.5]\\nclass = Died'),\n",
       " Text(250.10750988142294, 88.01142857142858, 'gini = 0.444\\nsamples = 0.3%\\nvalue = [0.667, 0.333]\\nclass = Died'),\n",
       " Text(252.7541501976285, 98.36571428571429, 'gini = 0.5\\nsamples = 0.4%\\nvalue = [0.5, 0.5]\\nclass = Died'),\n",
       " Text(255.400790513834, 108.72, 'gini = 0.0\\nsamples = 0.1%\\nvalue = [1.0, 0.0]\\nclass = Died'),\n",
       " Text(258.04743083003956, 119.07428571428571, 'gini = 0.48\\nsamples = 0.6%\\nvalue = [0.4, 0.6]\\nclass = Survived'),\n",
       " Text(260.6940711462451, 150.13714285714286, 'Fare <= 8.673\\ngini = 0.36\\nsamples = 1.9%\\nvalue = [0.765, 0.235]\\nclass = Died'),\n",
       " Text(258.04743083003956, 139.78285714285715, 'gini = 0.0\\nsamples = 0.4%\\nvalue = [1.0, 0.0]\\nclass = Died'),\n",
       " Text(263.3407114624506, 139.78285714285715, 'Fare <= 8.767\\ngini = 0.426\\nsamples = 1.5%\\nvalue = [0.692, 0.308]\\nclass = Died'),\n",
       " Text(260.6940711462451, 129.42857142857144, 'gini = 0.0\\nsamples = 0.1%\\nvalue = [0.0, 1.0]\\nclass = Survived'),\n",
       " Text(265.98735177865615, 129.42857142857144, 'Fare <= 10.152\\ngini = 0.375\\nsamples = 1.3%\\nvalue = [0.75, 0.25]\\nclass = Died'),\n",
       " Text(263.3407114624506, 119.07428571428571, 'Fare <= 9.84\\ngini = 0.444\\nsamples = 1.0%\\nvalue = [0.667, 0.333]\\nclass = Died'),\n",
       " Text(260.6940711462451, 108.72, 'Fare <= 9.706\\ngini = 0.375\\nsamples = 0.9%\\nvalue = [0.75, 0.25]\\nclass = Died'),\n",
       " Text(258.04743083003956, 98.36571428571429, 'Fare <= 9.1\\ngini = 0.48\\nsamples = 0.6%\\nvalue = [0.6, 0.4]\\nclass = Died'),\n",
       " Text(255.400790513834, 88.01142857142858, 'gini = 0.0\\nsamples = 0.1%\\nvalue = [1.0, 0.0]\\nclass = Died'),\n",
       " Text(260.6940711462451, 88.01142857142858, 'Fare <= 9.413\\ngini = 0.5\\nsamples = 0.4%\\nvalue = [0.5, 0.5]\\nclass = Died'),\n",
       " Text(258.04743083003956, 77.65714285714284, 'gini = 0.0\\nsamples = 0.1%\\nvalue = [0.0, 1.0]\\nclass = Survived'),\n",
       " Text(263.3407114624506, 77.65714285714284, 'Fare <= 9.531\\ngini = 0.444\\nsamples = 0.3%\\nvalue = [0.667, 0.333]\\nclass = Died'),\n",
       " Text(260.6940711462451, 67.30285714285714, 'gini = 0.0\\nsamples = 0.1%\\nvalue = [1.0, 0.0]\\nclass = Died'),\n",
       " Text(265.98735177865615, 67.30285714285714, 'gini = 0.5\\nsamples = 0.2%\\nvalue = [0.5, 0.5]\\nclass = Died'),\n",
       " Text(263.3407114624506, 98.36571428571429, 'gini = 0.0\\nsamples = 0.3%\\nvalue = [1.0, 0.0]\\nclass = Died'),\n",
       " Text(265.98735177865615, 108.72, 'gini = 0.0\\nsamples = 0.1%\\nvalue = [0.0, 1.0]\\nclass = Survived'),\n",
       " Text(268.6339920948617, 119.07428571428571, 'gini = 0.0\\nsamples = 0.3%\\nvalue = [1.0, 0.0]\\nclass = Died'),\n",
       " Text(276.5739130434783, 160.49142857142857, 'Fare <= 17.6\\ngini = 0.473\\nsamples = 2.9%\\nvalue = [0.385, 0.615]\\nclass = Survived'),\n",
       " Text(271.28063241106724, 150.13714285714286, 'Fare <= 13.438\\ngini = 0.305\\nsamples = 1.8%\\nvalue = [0.188, 0.812]\\nclass = Survived'),\n",
       " Text(268.6339920948617, 139.78285714285715, 'gini = 0.0\\nsamples = 0.7%\\nvalue = [0.0, 1.0]\\nclass = Survived'),\n",
       " Text(273.92727272727274, 139.78285714285715, 'Fare <= 15.175\\ngini = 0.42\\nsamples = 1.1%\\nvalue = [0.3, 0.7]\\nclass = Survived'),\n",
       " Text(271.28063241106724, 129.42857142857144, 'gini = 0.0\\nsamples = 0.2%\\nvalue = [1.0, 0.0]\\nclass = Died'),\n",
       " Text(276.5739130434783, 129.42857142857144, 'Fare <= 16.4\\ngini = 0.219\\nsamples = 0.9%\\nvalue = [0.125, 0.875]\\nclass = Survived'),\n",
       " Text(273.92727272727274, 119.07428571428571, 'Fare <= 15.975\\ngini = 0.32\\nsamples = 0.6%\\nvalue = [0.2, 0.8]\\nclass = Survived'),\n",
       " Text(271.28063241106724, 108.72, 'gini = 0.0\\nsamples = 0.2%\\nvalue = [0.0, 1.0]\\nclass = Survived'),\n",
       " Text(276.5739130434783, 108.72, 'gini = 0.444\\nsamples = 0.3%\\nvalue = [0.333, 0.667]\\nclass = Survived'),\n",
       " Text(279.22055335968383, 119.07428571428571, 'gini = 0.0\\nsamples = 0.3%\\nvalue = [0.0, 1.0]\\nclass = Survived'),\n",
       " Text(281.8671936758894, 150.13714285714286, 'Fare <= 20.231\\ngini = 0.42\\nsamples = 1.1%\\nvalue = [0.7, 0.3]\\nclass = Died'),\n",
       " Text(279.22055335968383, 139.78285714285715, 'gini = 0.0\\nsamples = 0.4%\\nvalue = [1.0, 0.0]\\nclass = Died'),\n",
       " Text(284.5138339920949, 139.78285714285715, 'Fare <= 20.8\\ngini = 0.5\\nsamples = 0.7%\\nvalue = [0.5, 0.5]\\nclass = Died'),\n",
       " Text(281.8671936758894, 129.42857142857144, 'gini = 0.0\\nsamples = 0.2%\\nvalue = [0.0, 1.0]\\nclass = Survived'),\n",
       " Text(287.1604743083004, 129.42857142857144, 'Fare <= 21.55\\ngini = 0.375\\nsamples = 0.4%\\nvalue = [0.75, 0.25]\\nclass = Died'),\n",
       " Text(284.5138339920949, 119.07428571428571, 'gini = 0.0\\nsamples = 0.3%\\nvalue = [1.0, 0.0]\\nclass = Died'),\n",
       " Text(289.80711462450597, 119.07428571428571, 'gini = 0.0\\nsamples = 0.1%\\nvalue = [0.0, 1.0]\\nclass = Survived'),\n",
       " Text(305.68695652173915, 170.84571428571428, 'Fare <= 15.621\\ngini = 0.417\\nsamples = 6.1%\\nvalue = [0.296, 0.704]\\nclass = Survived'),\n",
       " Text(303.0403162055336, 160.49142857142857, 'Fare <= 13.935\\ngini = 0.454\\nsamples = 5.2%\\nvalue = [0.348, 0.652]\\nclass = Survived'),\n",
       " Text(292.4537549407115, 150.13714285714286, 'Fare <= 6.987\\ngini = 0.342\\nsamples = 3.6%\\nvalue = [0.219, 0.781]\\nclass = Survived'),\n",
       " Text(289.80711462450597, 139.78285714285715, 'gini = 0.0\\nsamples = 0.1%\\nvalue = [1.0, 0.0]\\nclass = Died'),\n",
       " Text(295.100395256917, 139.78285714285715, 'Embarked <= 1.5\\ngini = 0.312\\nsamples = 3.5%\\nvalue = [0.194, 0.806]\\nclass = Survived'),\n",
       " Text(292.4537549407115, 129.42857142857144, 'gini = 0.0\\nsamples = 0.7%\\nvalue = [0.0, 1.0]\\nclass = Survived'),\n",
       " Text(297.74703557312256, 129.42857142857144, 'Fare <= 7.681\\ngini = 0.365\\nsamples = 2.8%\\nvalue = [0.24, 0.76]\\nclass = Survived'),\n",
       " Text(295.100395256917, 119.07428571428571, 'gini = 0.0\\nsamples = 0.1%\\nvalue = [1.0, 0.0]\\nclass = Died'),\n",
       " Text(300.3936758893281, 119.07428571428571, 'Fare <= 8.083\\ngini = 0.33\\nsamples = 2.7%\\nvalue = [0.208, 0.792]\\nclass = Survived'),\n",
       " Text(297.74703557312256, 108.72, 'Fare <= 7.769\\ngini = 0.287\\nsamples = 2.6%\\nvalue = [0.174, 0.826]\\nclass = Survived'),\n",
       " Text(295.100395256917, 98.36571428571429, 'Fare <= 7.744\\ngini = 0.375\\nsamples = 1.8%\\nvalue = [0.25, 0.75]\\nclass = Survived'),\n",
       " Text(292.4537549407115, 88.01142857142858, 'gini = 0.0\\nsamples = 0.3%\\nvalue = [0.0, 1.0]\\nclass = Survived'),\n",
       " Text(297.74703557312256, 88.01142857142858, 'gini = 0.426\\nsamples = 1.5%\\nvalue = [0.308, 0.692]\\nclass = Survived'),\n",
       " Text(300.3936758893281, 98.36571428571429, 'gini = 0.0\\nsamples = 0.8%\\nvalue = [0.0, 1.0]\\nclass = Survived'),\n",
       " Text(303.0403162055336, 108.72, 'gini = 0.0\\nsamples = 0.1%\\nvalue = [1.0, 0.0]\\nclass = Died'),\n",
       " Text(313.62687747035574, 150.13714285714286, 'Fare <= 15.373\\ngini = 0.459\\nsamples = 1.6%\\nvalue = [0.643, 0.357]\\nclass = Died'),\n",
       " Text(310.98023715415025, 139.78285714285715, 'Fare <= 14.852\\ngini = 0.32\\nsamples = 1.1%\\nvalue = [0.8, 0.2]\\nclass = Died'),\n",
       " Text(308.3335968379447, 129.42857142857144, 'Fare <= 14.456\\ngini = 0.245\\nsamples = 0.8%\\nvalue = [0.857, 0.143]\\nclass = Died'),\n",
       " Text(305.68695652173915, 119.07428571428571, 'gini = 0.32\\nsamples = 0.6%\\nvalue = [0.8, 0.2]\\nclass = Died'),\n",
       " Text(310.98023715415025, 119.07428571428571, 'gini = 0.0\\nsamples = 0.2%\\nvalue = [1.0, 0.0]\\nclass = Died'),\n",
       " Text(313.62687747035574, 129.42857142857144, 'gini = 0.444\\nsamples = 0.3%\\nvalue = [0.667, 0.333]\\nclass = Died'),\n",
       " Text(316.2735177865613, 139.78285714285715, 'gini = 0.375\\nsamples = 0.4%\\nvalue = [0.25, 0.75]\\nclass = Survived'),\n",
       " Text(308.3335968379447, 160.49142857142857, 'gini = 0.0\\nsamples = 0.9%\\nvalue = [0.0, 1.0]\\nclass = Survived'),\n",
       " Text(324.2134387351779, 181.2, 'Embarked <= 1.0\\ngini = 0.198\\nsamples = 3.0%\\nvalue = [0.889, 0.111]\\nclass = Died'),\n",
       " Text(318.92015810276683, 170.84571428571428, 'Fare <= 31.331\\ngini = 0.147\\nsamples = 2.8%\\nvalue = [0.92, 0.08]\\nclass = Died'),\n",
       " Text(316.2735177865613, 160.49142857142857, 'gini = 0.0\\nsamples = 1.6%\\nvalue = [1.0, 0.0]\\nclass = Died'),\n",
       " Text(321.5667984189724, 160.49142857142857, 'Fare <= 32.881\\ngini = 0.298\\nsamples = 1.2%\\nvalue = [0.818, 0.182]\\nclass = Died'),\n",
       " Text(318.92015810276683, 150.13714285714286, 'gini = 0.0\\nsamples = 0.2%\\nvalue = [0.0, 1.0]\\nclass = Survived'),\n",
       " Text(324.2134387351779, 150.13714285714286, 'gini = 0.0\\nsamples = 1.0%\\nvalue = [1.0, 0.0]\\nclass = Died'),\n",
       " Text(329.50671936758897, 170.84571428571428, 'Fare <= 26.637\\ngini = 0.5\\nsamples = 0.2%\\nvalue = [0.5, 0.5]\\nclass = Died'),\n",
       " Text(326.8600790513834, 160.49142857142857, 'gini = 0.0\\nsamples = 0.1%\\nvalue = [0.0, 1.0]\\nclass = Survived'),\n",
       " Text(332.1533596837945, 160.49142857142857, 'gini = 0.0\\nsamples = 0.1%\\nvalue = [1.0, 0.0]\\nclass = Died')]"
      ]
     },
     "execution_count": 9,
     "metadata": {},
     "output_type": "execute_result"
    },
    {
     "data": {
      "image/png": "[encoded data removed]",
      "text/plain": [
       "<Figure size 432x288 with 1 Axes>"
      ]
     },
     "metadata": {
      "needs_background": "light"
     },
     "output_type": "display_data"
    }
   ],
   "source": [
    "featuresdf = traindf[list(traindf.columns[1:])]\n",
    "targetdf = traindf['Survived']\n",
    "clf = tree.DecisionTreeClassifier()\n",
    "model = clf.fit(featuresdf, targetdf)\n",
    "plt.title('Decision Tree')\n",
    "tree.plot_tree(model, feature_names=list(traindf.columns[1:]), class_names=['Died', 'Survived'], filled=True, rounded=True,\n",
    "              proportion=True)"
   ]
  },
  {
   "cell_type": "markdown",
   "metadata": {},
   "source": [
    "## Get the testing dataset and clean it"
   ]
  },
  {
   "cell_type": "code",
   "execution_count": 10,
   "metadata": {},
   "outputs": [
    {
     "data": {
      "text/html": [
       "<div>\n",
       "<style scoped>\n",
       "    .dataframe tbody tr th:only-of-type {\n",
       "        vertical-align: middle;\n",
       "    }\n",
       "\n",
       "    .dataframe tbody tr th {\n",
       "        vertical-align: top;\n",
       "    }\n",
       "\n",
       "    .dataframe thead th {\n",
       "        text-align: right;\n",
       "    }\n",
       "</style>\n",
       "<table border=\"1\" class=\"dataframe\">\n",
       "  <thead>\n",
       "    <tr style=\"text-align: right;\">\n",
       "      <th></th>\n",
       "      <th>Pclass</th>\n",
       "      <th>Sex</th>\n",
       "      <th>Fare</th>\n",
       "      <th>Embarked</th>\n",
       "    </tr>\n",
       "  </thead>\n",
       "  <tbody>\n",
       "    <tr>\n",
       "      <th>0</th>\n",
       "      <td>3</td>\n",
       "      <td>0</td>\n",
       "      <td>7.8292</td>\n",
       "      <td>2</td>\n",
       "    </tr>\n",
       "    <tr>\n",
       "      <th>1</th>\n",
       "      <td>3</td>\n",
       "      <td>1</td>\n",
       "      <td>7.0000</td>\n",
       "      <td>0</td>\n",
       "    </tr>\n",
       "    <tr>\n",
       "      <th>2</th>\n",
       "      <td>2</td>\n",
       "      <td>0</td>\n",
       "      <td>9.6875</td>\n",
       "      <td>2</td>\n",
       "    </tr>\n",
       "    <tr>\n",
       "      <th>3</th>\n",
       "      <td>3</td>\n",
       "      <td>0</td>\n",
       "      <td>8.6625</td>\n",
       "      <td>0</td>\n",
       "    </tr>\n",
       "    <tr>\n",
       "      <th>4</th>\n",
       "      <td>3</td>\n",
       "      <td>1</td>\n",
       "      <td>12.2875</td>\n",
       "      <td>0</td>\n",
       "    </tr>\n",
       "    <tr>\n",
       "      <th>...</th>\n",
       "      <td>...</td>\n",
       "      <td>...</td>\n",
       "      <td>...</td>\n",
       "      <td>...</td>\n",
       "    </tr>\n",
       "    <tr>\n",
       "      <th>413</th>\n",
       "      <td>3</td>\n",
       "      <td>0</td>\n",
       "      <td>8.0500</td>\n",
       "      <td>0</td>\n",
       "    </tr>\n",
       "    <tr>\n",
       "      <th>414</th>\n",
       "      <td>1</td>\n",
       "      <td>1</td>\n",
       "      <td>108.9000</td>\n",
       "      <td>1</td>\n",
       "    </tr>\n",
       "    <tr>\n",
       "      <th>415</th>\n",
       "      <td>3</td>\n",
       "      <td>0</td>\n",
       "      <td>7.2500</td>\n",
       "      <td>0</td>\n",
       "    </tr>\n",
       "    <tr>\n",
       "      <th>416</th>\n",
       "      <td>3</td>\n",
       "      <td>0</td>\n",
       "      <td>8.0500</td>\n",
       "      <td>0</td>\n",
       "    </tr>\n",
       "    <tr>\n",
       "      <th>417</th>\n",
       "      <td>3</td>\n",
       "      <td>0</td>\n",
       "      <td>22.3583</td>\n",
       "      <td>1</td>\n",
       "    </tr>\n",
       "  </tbody>\n",
       "</table>\n",
       "<p>418 rows × 4 columns</p>\n",
       "</div>"
      ],
      "text/plain": [
       "     Pclass  Sex      Fare  Embarked\n",
       "0         3    0    7.8292         2\n",
       "1         3    1    7.0000         0\n",
       "2         2    0    9.6875         2\n",
       "3         3    0    8.6625         0\n",
       "4         3    1   12.2875         0\n",
       "..      ...  ...       ...       ...\n",
       "413       3    0    8.0500         0\n",
       "414       1    1  108.9000         1\n",
       "415       3    0    7.2500         0\n",
       "416       3    0    8.0500         0\n",
       "417       3    0   22.3583         1\n",
       "\n",
       "[418 rows x 4 columns]"
      ]
     },
     "execution_count": 10,
     "metadata": {},
     "output_type": "execute_result"
    }
   ],
   "source": [
    "titanictestdf = pd.read_csv(r'test.csv')\n",
    "testdf = titanictestdf.drop(['Cabin', 'Name', 'PassengerId', 'Ticket','SibSp', 'Parch', 'Age'], axis=1)\n",
    "testdf = testdf.dropna(axis=0, subset=['Embarked'])\n",
    "testdf.Sex = testdf.Sex.map({'male': 0, 'female': 1})\n",
    "testdf.Embarked = testdf.Embarked.map({'S': 0, 'C': 1, 'Q': 2})\n",
    "testdf"
   ]
  },
  {
   "cell_type": "markdown",
   "metadata": {},
   "source": [
    "## Check for missing values"
   ]
  },
  {
   "cell_type": "code",
   "execution_count": 11,
   "metadata": {},
   "outputs": [
    {
     "data": {
      "text/plain": [
       "Pclass      0\n",
       "Sex         0\n",
       "Fare        1\n",
       "Embarked    0\n",
       "dtype: int64"
      ]
     },
     "execution_count": 11,
     "metadata": {},
     "output_type": "execute_result"
    }
   ],
   "source": [
    "testdf.isnull().sum()"
   ]
  },
  {
   "cell_type": "markdown",
   "metadata": {},
   "source": [
    "## Get the details for missing value"
   ]
  },
  {
   "cell_type": "code",
   "execution_count": 12,
   "metadata": {},
   "outputs": [
    {
     "data": {
      "text/html": [
       "<div>\n",
       "<style scoped>\n",
       "    .dataframe tbody tr th:only-of-type {\n",
       "        vertical-align: middle;\n",
       "    }\n",
       "\n",
       "    .dataframe tbody tr th {\n",
       "        vertical-align: top;\n",
       "    }\n",
       "\n",
       "    .dataframe thead th {\n",
       "        text-align: right;\n",
       "    }\n",
       "</style>\n",
       "<table border=\"1\" class=\"dataframe\">\n",
       "  <thead>\n",
       "    <tr style=\"text-align: right;\">\n",
       "      <th></th>\n",
       "      <th>Pclass</th>\n",
       "      <th>Sex</th>\n",
       "      <th>Fare</th>\n",
       "      <th>Embarked</th>\n",
       "    </tr>\n",
       "  </thead>\n",
       "  <tbody>\n",
       "    <tr>\n",
       "      <th>152</th>\n",
       "      <td>3</td>\n",
       "      <td>0</td>\n",
       "      <td>NaN</td>\n",
       "      <td>0</td>\n",
       "    </tr>\n",
       "  </tbody>\n",
       "</table>\n",
       "</div>"
      ],
      "text/plain": [
       "     Pclass  Sex  Fare  Embarked\n",
       "152       3    0   NaN         0"
      ]
     },
     "execution_count": 12,
     "metadata": {},
     "output_type": "execute_result"
    }
   ],
   "source": [
    "testdf.loc[testdf[testdf['Fare'].isnull()].index.to_list()]"
   ]
  },
  {
   "cell_type": "markdown",
   "metadata": {},
   "source": [
    "## Get all the information on index 152"
   ]
  },
  {
   "cell_type": "code",
   "execution_count": 13,
   "metadata": {},
   "outputs": [
    {
     "data": {
      "text/plain": [
       "PassengerId                  1044\n",
       "Pclass                          3\n",
       "Name           Storey, Mr. Thomas\n",
       "Sex                          male\n",
       "Age                          60.5\n",
       "SibSp                           0\n",
       "Parch                           0\n",
       "Ticket                       3701\n",
       "Fare                          NaN\n",
       "Cabin                         NaN\n",
       "Embarked                        S\n",
       "Name: 152, dtype: object"
      ]
     },
     "execution_count": 13,
     "metadata": {},
     "output_type": "execute_result"
    }
   ],
   "source": [
    "titanictestdf.loc[152]"
   ]
  },
  {
   "cell_type": "markdown",
   "metadata": {},
   "source": [
    "## We will check if we can predict the missing value by using Pclass"
   ]
  },
  {
   "cell_type": "code",
   "execution_count": 14,
   "metadata": {},
   "outputs": [
    {
     "data": {
      "text/plain": [
       "<matplotlib.axes._subplots.AxesSubplot at 0x13c830b8>"
      ]
     },
     "execution_count": 14,
     "metadata": {},
     "output_type": "execute_result"
    },
    {
     "data": {
      "image/png": "[encoded data removed]",
      "text/plain": [
       "<Figure size 432x288 with 1 Axes>"
      ]
     },
     "metadata": {
      "needs_background": "light"
     },
     "output_type": "display_data"
    }
   ],
   "source": [
    "sns.swarmplot(traindf.Pclass, traindf.Fare)\n"
   ]
  },
  {
   "cell_type": "markdown",
   "metadata": {},
   "source": [
    "## Get the average of fares in each ticket class (in both training and testing datasets)"
   ]
  },
  {
   "cell_type": "code",
   "execution_count": 15,
   "metadata": {},
   "outputs": [
    {
     "data": {
      "text/plain": [
       "Pclass\n",
       "1    84.193516\n",
       "2    20.662183\n",
       "3    13.675550\n",
       "Name: Fare, dtype: float64"
      ]
     },
     "execution_count": 15,
     "metadata": {},
     "output_type": "execute_result"
    }
   ],
   "source": [
    "traindf.groupby('Pclass')['Fare'].agg(np.mean)"
   ]
  },
  {
   "cell_type": "code",
   "execution_count": 16,
   "metadata": {},
   "outputs": [
    {
     "data": {
      "text/plain": [
       "Pclass\n",
       "1    94.280297\n",
       "2    22.202104\n",
       "3    12.459678\n",
       "Name: Fare, dtype: float64"
      ]
     },
     "execution_count": 16,
     "metadata": {},
     "output_type": "execute_result"
    }
   ],
   "source": [
    "testdf.dropna().groupby('Pclass')['Fare'].agg(np.mean)"
   ]
  },
  {
   "cell_type": "markdown",
   "metadata": {},
   "source": [
    "## Assign the average of these two results of 3rd class ticket averages to the missing value"
   ]
  },
  {
   "cell_type": "code",
   "execution_count": 17,
   "metadata": {},
   "outputs": [
    {
     "data": {
      "text/plain": [
       "13.067613991008665"
      ]
     },
     "execution_count": 17,
     "metadata": {},
     "output_type": "execute_result"
    }
   ],
   "source": [
    "testdf.loc[152, 'Fare'] = np.mean([testdf.dropna().groupby('Pclass')['Fare'].agg(np.mean).loc[3],traindf.dropna().groupby('Pclass')['Fare'].agg(np.mean).loc[3]])\n",
    "testdf.loc[152,'Fare'] "
   ]
  },
  {
   "cell_type": "markdown",
   "metadata": {},
   "source": [
    "## Predict the survival using created model"
   ]
  },
  {
   "cell_type": "code",
   "execution_count": 18,
   "metadata": {},
   "outputs": [
    {
     "data": {
      "text/plain": [
       "array([0, 1, 0, 0, 1, 0, 0, 1, 1, 0, 0, 0, 1, 0, 1, 1, 0, 0, 1, 1, 0, 0,\n",
       "       1, 0, 1, 0, 1, 0, 1, 0, 0, 0, 1, 0, 1, 0, 0, 0, 0, 1, 1, 0, 0, 1,\n",
       "       1, 0, 0, 0, 1, 1, 0, 0, 1, 1, 1, 0, 0, 0, 0, 1, 0, 0, 0, 1, 0, 1,\n",
       "       1, 0, 0, 1, 1, 0, 1, 0, 1, 0, 0, 1, 0, 1, 1, 0, 0, 0, 0, 0, 1, 0,\n",
       "       1, 0, 0, 0, 1, 0, 0, 0, 1, 0, 0, 0, 1, 0, 0, 0, 1, 0, 0, 0, 0, 0,\n",
       "       0, 1, 1, 0, 1, 0, 0, 1, 1, 1, 1, 0, 1, 0, 0, 1, 0, 1, 0, 0, 0, 0,\n",
       "       0, 0, 0, 0, 0, 0, 0, 0, 0, 0, 0, 0, 0, 0, 0, 0, 0, 0, 1, 0, 1, 1,\n",
       "       0, 0, 1, 0, 0, 0, 1, 1, 1, 0, 0, 1, 0, 0, 1, 0, 0, 0, 0, 0, 0, 1,\n",
       "       1, 1, 1, 1, 0, 0, 1, 0, 1, 1, 1, 0, 0, 0, 0, 0, 0, 0, 0, 0, 0, 0,\n",
       "       0, 0, 1, 0, 0, 1, 0, 0, 1, 0, 1, 0, 0, 0, 0, 1, 0, 0, 1, 0, 1, 0,\n",
       "       1, 0, 1, 0, 1, 0, 0, 1, 0, 0, 0, 1, 0, 0, 0, 0, 1, 0, 1, 1, 1, 1,\n",
       "       0, 0, 0, 0, 1, 0, 1, 0, 1, 0, 0, 0, 0, 0, 0, 0, 1, 0, 0, 0, 1, 1,\n",
       "       0, 0, 0, 0, 0, 0, 1, 0, 1, 1, 0, 1, 0, 0, 0, 0, 0, 0, 1, 0, 0, 0,\n",
       "       0, 0, 0, 0, 0, 0, 0, 1, 0, 0, 1, 0, 0, 0, 0, 0, 0, 0, 1, 1, 1, 0,\n",
       "       1, 0, 0, 0, 0, 1, 1, 1, 0, 0, 0, 0, 0, 0, 0, 0, 1, 0, 1, 0, 0, 0,\n",
       "       1, 0, 0, 1, 0, 0, 0, 0, 0, 0, 0, 0, 0, 1, 0, 1, 0, 1, 0, 1, 1, 0,\n",
       "       0, 0, 1, 0, 1, 0, 0, 1, 0, 1, 1, 0, 1, 0, 0, 0, 1, 1, 0, 1, 0, 0,\n",
       "       1, 1, 0, 0, 0, 0, 0, 0, 0, 1, 0, 1, 0, 0, 0, 0, 1, 1, 0, 0, 0, 1,\n",
       "       0, 1, 0, 0, 1, 0, 1, 0, 0, 1, 0, 0, 1, 0, 1, 1, 0, 0, 1, 0, 0, 0],\n",
       "      dtype=int64)"
      ]
     },
     "execution_count": 18,
     "metadata": {},
     "output_type": "execute_result"
    }
   ],
   "source": [
    "model.predict(testdf)"
   ]
  },
  {
   "cell_type": "markdown",
   "metadata": {},
   "source": [
    "## Add the prediction in the Survived column against passenger Id in a new dataframe"
   ]
  },
  {
   "cell_type": "code",
   "execution_count": 19,
   "metadata": {},
   "outputs": [
    {
     "data": {
      "text/html": [
       "<div>\n",
       "<style scoped>\n",
       "    .dataframe tbody tr th:only-of-type {\n",
       "        vertical-align: middle;\n",
       "    }\n",
       "\n",
       "    .dataframe tbody tr th {\n",
       "        vertical-align: top;\n",
       "    }\n",
       "\n",
       "    .dataframe thead th {\n",
       "        text-align: right;\n",
       "    }\n",
       "</style>\n",
       "<table border=\"1\" class=\"dataframe\">\n",
       "  <thead>\n",
       "    <tr style=\"text-align: right;\">\n",
       "      <th></th>\n",
       "      <th>Survived</th>\n",
       "    </tr>\n",
       "    <tr>\n",
       "      <th>PassengerId</th>\n",
       "      <th></th>\n",
       "    </tr>\n",
       "  </thead>\n",
       "  <tbody>\n",
       "    <tr>\n",
       "      <th>892</th>\n",
       "      <td>0</td>\n",
       "    </tr>\n",
       "    <tr>\n",
       "      <th>893</th>\n",
       "      <td>1</td>\n",
       "    </tr>\n",
       "    <tr>\n",
       "      <th>894</th>\n",
       "      <td>0</td>\n",
       "    </tr>\n",
       "    <tr>\n",
       "      <th>895</th>\n",
       "      <td>0</td>\n",
       "    </tr>\n",
       "    <tr>\n",
       "      <th>896</th>\n",
       "      <td>1</td>\n",
       "    </tr>\n",
       "    <tr>\n",
       "      <th>...</th>\n",
       "      <td>...</td>\n",
       "    </tr>\n",
       "    <tr>\n",
       "      <th>1305</th>\n",
       "      <td>0</td>\n",
       "    </tr>\n",
       "    <tr>\n",
       "      <th>1306</th>\n",
       "      <td>1</td>\n",
       "    </tr>\n",
       "    <tr>\n",
       "      <th>1307</th>\n",
       "      <td>0</td>\n",
       "    </tr>\n",
       "    <tr>\n",
       "      <th>1308</th>\n",
       "      <td>0</td>\n",
       "    </tr>\n",
       "    <tr>\n",
       "      <th>1309</th>\n",
       "      <td>0</td>\n",
       "    </tr>\n",
       "  </tbody>\n",
       "</table>\n",
       "<p>418 rows × 1 columns</p>\n",
       "</div>"
      ],
      "text/plain": [
       "             Survived\n",
       "PassengerId          \n",
       "892                 0\n",
       "893                 1\n",
       "894                 0\n",
       "895                 0\n",
       "896                 1\n",
       "...               ...\n",
       "1305                0\n",
       "1306                1\n",
       "1307                0\n",
       "1308                0\n",
       "1309                0\n",
       "\n",
       "[418 rows x 1 columns]"
      ]
     },
     "execution_count": 19,
     "metadata": {},
     "output_type": "execute_result"
    }
   ],
   "source": [
    "survival_prediction = titanictestdf.copy()\n",
    "survival_prediction['Survived'] = model.predict(testdf)\n",
    "survival_prediction = survival_prediction[['PassengerId', 'Survived']].set_index('PassengerId')\n",
    "survival_prediction"
   ]
  },
  {
   "cell_type": "markdown",
   "metadata": {},
   "source": [
    "## Save the result"
   ]
  },
  {
   "cell_type": "code",
   "execution_count": 20,
   "metadata": {},
   "outputs": [],
   "source": [
    "survival_prediction.to_csv('survival_prediction.csv')"
   ]
  },
  {
   "cell_type": "markdown",
   "metadata": {},
   "source": [
    "***The model turns out to be 77.99% accurate***"
   ]
  }
 ],
 "metadata": {
  "kernelspec": {
   "display_name": "Python 3",
   "language": "python",
   "name": "python3"
  },
  "language_info": {
   "codemirror_mode": {
    "name": "ipython",
    "version": 3
   },
   "file_extension": ".py",
   "mimetype": "text/x-python",
   "name": "python",
   "nbconvert_exporter": "python",
   "pygments_lexer": "ipython3",
   "version": "3.8.2"
  }
 },
 "nbformat": 4,
 "nbformat_minor": 4
}
